{
 "cells": [
  {
   "cell_type": "code",
   "execution_count": 1,
   "id": "c8ca98db",
   "metadata": {},
   "outputs": [],
   "source": [
    "import numpy as np\n",
    "import pandas as pd"
   ]
  },
  {
   "cell_type": "code",
   "execution_count": 2,
   "id": "f4741d2a",
   "metadata": {},
   "outputs": [],
   "source": [
    "data = pd.read_csv('data/Call_Data(2017-Present).csv')"
   ]
  },
  {
   "cell_type": "code",
   "execution_count": 3,
   "id": "b8c05d04",
   "metadata": {},
   "outputs": [
    {
     "data": {
      "text/html": [
       "<div>\n",
       "<style scoped>\n",
       "    .dataframe tbody tr th:only-of-type {\n",
       "        vertical-align: middle;\n",
       "    }\n",
       "\n",
       "    .dataframe tbody tr th {\n",
       "        vertical-align: top;\n",
       "    }\n",
       "\n",
       "    .dataframe thead th {\n",
       "        text-align: right;\n",
       "    }\n",
       "</style>\n",
       "<table border=\"1\" class=\"dataframe\">\n",
       "  <thead>\n",
       "    <tr style=\"text-align: right;\">\n",
       "      <th></th>\n",
       "      <th>CAD Event Number</th>\n",
       "      <th>Event Clearance Description</th>\n",
       "      <th>Call Type</th>\n",
       "      <th>Priority</th>\n",
       "      <th>Initial Call Type</th>\n",
       "      <th>Final Call Type</th>\n",
       "      <th>Original Time Queued</th>\n",
       "      <th>Arrived Time</th>\n",
       "      <th>Precinct</th>\n",
       "      <th>Sector</th>\n",
       "      <th>Beat</th>\n",
       "    </tr>\n",
       "  </thead>\n",
       "  <tbody>\n",
       "    <tr>\n",
       "      <th>0</th>\n",
       "      <td>2017000000001</td>\n",
       "      <td>PROBLEM SOLVING PROJECT</td>\n",
       "      <td>ONVIEW</td>\n",
       "      <td>7</td>\n",
       "      <td>PREMISE CHECK, OFFICER INITIATED ONVIEW ONLY</td>\n",
       "      <td>--PREMISE CHECKS - CRIME PREVENTION</td>\n",
       "      <td>01/01/2017 12:00:10 AM</td>\n",
       "      <td>01/01/2017 12:00:10 AM</td>\n",
       "      <td>SOUTH</td>\n",
       "      <td>ROBERT</td>\n",
       "      <td>R2</td>\n",
       "    </tr>\n",
       "    <tr>\n",
       "      <th>1</th>\n",
       "      <td>2017000000002</td>\n",
       "      <td>ASSISTANCE RENDERED</td>\n",
       "      <td>ONVIEW</td>\n",
       "      <td>7</td>\n",
       "      <td>SUSPICIOUS STOP - OFFICER INITIATED ONVIEW</td>\n",
       "      <td>--SUSPICIOUS CIRCUM. - SUSPICIOUS PERSON</td>\n",
       "      <td>01/01/2017 12:00:18 AM</td>\n",
       "      <td>01/01/2017 12:00:18 AM</td>\n",
       "      <td>NORTH</td>\n",
       "      <td>LINCOLN</td>\n",
       "      <td>L2</td>\n",
       "    </tr>\n",
       "    <tr>\n",
       "      <th>2</th>\n",
       "      <td>2016000469028</td>\n",
       "      <td>REPORT WRITTEN (NO ARREST)</td>\n",
       "      <td>TELEPHONE OTHER, NOT 911</td>\n",
       "      <td>2</td>\n",
       "      <td>THREATS (INCLS IN-PERSON/BY PHONE/IN WRITING)</td>\n",
       "      <td>--CRISIS COMPLAINT - GENERAL</td>\n",
       "      <td>01/01/2017 12:01:39 AM</td>\n",
       "      <td>01/01/2017 01:06:03 AM</td>\n",
       "      <td>EAST</td>\n",
       "      <td>GEORGE</td>\n",
       "      <td>G1</td>\n",
       "    </tr>\n",
       "    <tr>\n",
       "      <th>3</th>\n",
       "      <td>2017000000003</td>\n",
       "      <td>ASSISTANCE RENDERED</td>\n",
       "      <td>ONVIEW</td>\n",
       "      <td>7</td>\n",
       "      <td>PREMISE CHECK, OFFICER INITIATED ONVIEW ONLY</td>\n",
       "      <td>--PREMISE CHECKS - CRIME PREVENTION</td>\n",
       "      <td>01/01/2017 12:01:44 AM</td>\n",
       "      <td>01/01/2017 12:01:45 AM</td>\n",
       "      <td>WEST</td>\n",
       "      <td>QUEEN</td>\n",
       "      <td>Q3</td>\n",
       "    </tr>\n",
       "    <tr>\n",
       "      <th>4</th>\n",
       "      <td>2017000000004</td>\n",
       "      <td>ASSISTANCE RENDERED</td>\n",
       "      <td>ONVIEW</td>\n",
       "      <td>3</td>\n",
       "      <td>DISTURBANCE, MISCELLANEOUS/OTHER</td>\n",
       "      <td>--MISCHIEF OR NUISANCE - GENERAL</td>\n",
       "      <td>01/01/2017 12:02:32 AM</td>\n",
       "      <td>01/01/2017 12:02:32 AM</td>\n",
       "      <td>EAST</td>\n",
       "      <td>EDWARD</td>\n",
       "      <td>E2</td>\n",
       "    </tr>\n",
       "  </tbody>\n",
       "</table>\n",
       "</div>"
      ],
      "text/plain": [
       "   CAD Event Number Event Clearance Description                 Call Type  \\\n",
       "0     2017000000001     PROBLEM SOLVING PROJECT                    ONVIEW   \n",
       "1     2017000000002         ASSISTANCE RENDERED                    ONVIEW   \n",
       "2     2016000469028  REPORT WRITTEN (NO ARREST)  TELEPHONE OTHER, NOT 911   \n",
       "3     2017000000003         ASSISTANCE RENDERED                    ONVIEW   \n",
       "4     2017000000004         ASSISTANCE RENDERED                    ONVIEW   \n",
       "\n",
       "   Priority                              Initial Call Type  \\\n",
       "0         7   PREMISE CHECK, OFFICER INITIATED ONVIEW ONLY   \n",
       "1         7     SUSPICIOUS STOP - OFFICER INITIATED ONVIEW   \n",
       "2         2  THREATS (INCLS IN-PERSON/BY PHONE/IN WRITING)   \n",
       "3         7   PREMISE CHECK, OFFICER INITIATED ONVIEW ONLY   \n",
       "4         3               DISTURBANCE, MISCELLANEOUS/OTHER   \n",
       "\n",
       "                            Final Call Type    Original Time Queued  \\\n",
       "0       --PREMISE CHECKS - CRIME PREVENTION  01/01/2017 12:00:10 AM   \n",
       "1  --SUSPICIOUS CIRCUM. - SUSPICIOUS PERSON  01/01/2017 12:00:18 AM   \n",
       "2              --CRISIS COMPLAINT - GENERAL  01/01/2017 12:01:39 AM   \n",
       "3       --PREMISE CHECKS - CRIME PREVENTION  01/01/2017 12:01:44 AM   \n",
       "4          --MISCHIEF OR NUISANCE - GENERAL  01/01/2017 12:02:32 AM   \n",
       "\n",
       "             Arrived Time Precinct   Sector Beat  \n",
       "0  01/01/2017 12:00:10 AM    SOUTH   ROBERT   R2  \n",
       "1  01/01/2017 12:00:18 AM    NORTH  LINCOLN   L2  \n",
       "2  01/01/2017 01:06:03 AM     EAST   GEORGE   G1  \n",
       "3  01/01/2017 12:01:45 AM     WEST    QUEEN   Q3  \n",
       "4  01/01/2017 12:02:32 AM     EAST   EDWARD   E2  "
      ]
     },
     "execution_count": 3,
     "metadata": {},
     "output_type": "execute_result"
    }
   ],
   "source": [
    "data.head(5)"
   ]
  },
  {
   "cell_type": "code",
   "execution_count": 4,
   "id": "2672a126",
   "metadata": {},
   "outputs": [
    {
     "name": "stdout",
     "output_type": "stream",
     "text": [
      "<class 'pandas.core.frame.DataFrame'>\n",
      "RangeIndex: 1934076 entries, 0 to 1934075\n",
      "Data columns (total 11 columns):\n",
      " #   Column                       Dtype \n",
      "---  ------                       ----- \n",
      " 0   CAD Event Number             int64 \n",
      " 1   Event Clearance Description  object\n",
      " 2   Call Type                    object\n",
      " 3   Priority                     int64 \n",
      " 4   Initial Call Type            object\n",
      " 5   Final Call Type              object\n",
      " 6   Original Time Queued         object\n",
      " 7   Arrived Time                 object\n",
      " 8   Precinct                     object\n",
      " 9   Sector                       object\n",
      " 10  Beat                         object\n",
      "dtypes: int64(2), object(9)\n",
      "memory usage: 162.3+ MB\n"
     ]
    }
   ],
   "source": [
    "data.info()"
   ]
  },
  {
   "cell_type": "code",
   "execution_count": 5,
   "id": "df29f0d0",
   "metadata": {},
   "outputs": [
    {
     "data": {
      "text/plain": [
       "CAD Event Number                   0\n",
       "Event Clearance Description        0\n",
       "Call Type                          0\n",
       "Priority                           0\n",
       "Initial Call Type                  0\n",
       "Final Call Type                    0\n",
       "Original Time Queued               0\n",
       "Arrived Time                       0\n",
       "Precinct                           0\n",
       "Sector                         17724\n",
       "Beat                               0\n",
       "dtype: int64"
      ]
     },
     "execution_count": 5,
     "metadata": {},
     "output_type": "execute_result"
    }
   ],
   "source": [
    "data.isna().sum()     # Count missing values"
   ]
  },
  {
   "cell_type": "code",
   "execution_count": 6,
   "id": "7910c966",
   "metadata": {},
   "outputs": [],
   "source": [
    "data = data.dropna(axis=0)"
   ]
  },
  {
   "cell_type": "code",
   "execution_count": 7,
   "id": "c63abe85",
   "metadata": {},
   "outputs": [
    {
     "data": {
      "text/plain": [
       "(1916352, 11)"
      ]
     },
     "execution_count": 7,
     "metadata": {},
     "output_type": "execute_result"
    }
   ],
   "source": [
    "data.shape"
   ]
  },
  {
   "cell_type": "code",
   "execution_count": 8,
   "id": "8af057f6",
   "metadata": {},
   "outputs": [
    {
     "data": {
      "text/plain": [
       "CAD Event Number               1914239\n",
       "Event Clearance Description         24\n",
       "Call Type                           10\n",
       "Priority                            10\n",
       "Initial Call Type                  286\n",
       "Final Call Type                    402\n",
       "Original Time Queued           1901560\n",
       "Arrived Time                   1745786\n",
       "Precinct                             5\n",
       "Sector                              17\n",
       "Beat                                52\n",
       "dtype: int64"
      ]
     },
     "execution_count": 8,
     "metadata": {},
     "output_type": "execute_result"
    }
   ],
   "source": [
    "data.nunique()"
   ]
  },
  {
   "cell_type": "code",
   "execution_count": 9,
   "id": "221b15fa",
   "metadata": {},
   "outputs": [],
   "source": [
    "data.to_csv(\"data/SeattleCallsData\", sep=',')"
   ]
  }
 ],
 "metadata": {
  "kernelspec": {
   "display_name": "Python 3 (ipykernel)",
   "language": "python",
   "name": "python3"
  },
  "language_info": {
   "codemirror_mode": {
    "name": "ipython",
    "version": 3
   },
   "file_extension": ".py",
   "mimetype": "text/x-python",
   "name": "python",
   "nbconvert_exporter": "python",
   "pygments_lexer": "ipython3",
   "version": "3.9.1"
  }
 },
 "nbformat": 4,
 "nbformat_minor": 5
}
